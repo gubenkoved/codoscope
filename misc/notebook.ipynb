{
 "cells": [
  {
   "cell_type": "code",
   "id": "initial_id",
   "metadata": {
    "collapsed": true
   },
   "source": [
    "%load_ext autoreload\n",
    "%autoreload 2\n",
    "\n",
    "import codoscope.state\n",
    "import codoscope.datasets\n",
    "import codoscope.core\n",
    "import codoscope.config\n",
    "import codoscope.widgets.activity_heatmap\n",
    "import codoscope.common\n",
    "import pandas\n",
    "import plotly.graph_objects as go"
   ],
   "outputs": [],
   "execution_count": null
  },
  {
   "metadata": {},
   "cell_type": "code",
   "source": [
    "state_path = \"state.codoscope\"\n",
    "config_path = \"config.yaml\"\n",
    "\n",
    "config = codoscope.config.load_config(config_path)\n",
    "state = codoscope.state.StateModel.load(state_path)\n",
    "datasets = codoscope.datasets.Datasets.extract(state)\n",
    "codoscope.core.run_processors(config, datasets)"
   ],
   "id": "b36edb8dd094951c",
   "outputs": [],
   "execution_count": null
  },
  {
   "metadata": {},
   "cell_type": "code",
   "source": [
    "user_activity_df = datasets.activity.query('user == \"John Smith\"')\n",
    "user_activity_df = codoscope.common.convert_timezone(user_activity_df, \"timestamp\", \"utc\")\n",
    "activity_heatmap = codoscope.widgets.activity_heatmap.activity_heatmap(user_activity_df)\n",
    "activity_heatmap.figure.show()"
   ],
   "id": "d1a1b2cce2c61c12",
   "outputs": [],
   "execution_count": null
  }
 ],
 "metadata": {
  "kernelspec": {
   "display_name": "Python 3",
   "language": "python",
   "name": "python3"
  },
  "language_info": {
   "codemirror_mode": {
    "name": "ipython",
    "version": 2
   },
   "file_extension": ".py",
   "mimetype": "text/x-python",
   "name": "python",
   "nbconvert_exporter": "python",
   "pygments_lexer": "ipython2",
   "version": "2.7.6"
  }
 },
 "nbformat": 4,
 "nbformat_minor": 5
}
