{
 "cells": [
  {
   "cell_type": "code",
   "execution_count": null,
   "id": "initial_id",
   "metadata": {
    "collapsed": true
   },
   "outputs": [],
   "source": [
    "%load_ext autoreload\n",
    "%autoreload 2\n",
    "\n",
    "import codoscope.state\n",
    "import codoscope.datasets\n",
    "import codoscope.core\n",
    "import codoscope.config\n",
    "import codoscope.widgets.activity_heatmap\n",
    "import codoscope.common\n",
    "import pandas\n",
    "import plotly.graph_objects as go"
   ]
  },
  {
   "cell_type": "code",
   "execution_count": null,
   "id": "b36edb8dd094951c",
   "metadata": {},
   "outputs": [],
   "source": [
    "state_path = \"state.codoscope\"\n",
    "config_path = \"config.yaml\"\n",
    "\n",
    "config = codoscope.config.load_config(config_path)\n",
    "state = codoscope.state.StateModel.load(state_path)\n",
    "datasets = codoscope.datasets.Datasets.extract(state)\n",
    "codoscope.core.run_processors(config, datasets)"
   ]
  },
  {
   "cell_type": "code",
   "execution_count": null,
   "id": "d1a1b2cce2c61c12",
   "metadata": {},
   "outputs": [],
   "source": [
    "user_activity_df = datasets.get_all_activity().query('user == \"John Smith\"')\n",
    "user_activity_df = codoscope.common.convert_timezone(user_activity_df, \"timestamp\", \"utc\")\n",
    "activity_heatmap = codoscope.widgets.activity_heatmap.activity_heatmap(user_activity_df)\n",
    "activity_heatmap.figure.show()"
   ]
  }
 ],
 "metadata": {
  "kernelspec": {
   "display_name": "Python 3",
   "language": "python",
   "name": "python3"
  },
  "language_info": {
   "codemirror_mode": {
    "name": "ipython",
    "version": 2
   },
   "file_extension": ".py",
   "mimetype": "text/x-python",
   "name": "python",
   "nbconvert_exporter": "python",
   "pygments_lexer": "ipython2",
   "version": "2.7.6"
  }
 },
 "nbformat": 4,
 "nbformat_minor": 5
}
